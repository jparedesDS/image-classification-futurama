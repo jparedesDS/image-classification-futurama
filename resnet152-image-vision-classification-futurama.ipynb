{
 "cells": [
  {
   "cell_type": "code",
   "execution_count": 2,
   "id": "af860094",
   "metadata": {
    "execution": {
     "iopub.execute_input": "2022-08-06T16:15:44.957346Z",
     "iopub.status.busy": "2022-08-06T16:15:44.956986Z",
     "iopub.status.idle": "2022-08-06T16:15:45.917243Z",
     "shell.execute_reply": "2022-08-06T16:15:45.915581Z"
    },
    "papermill": {
     "duration": 0.99535,
     "end_time": "2022-08-06T16:15:45.919986",
     "exception": false,
     "start_time": "2022-08-06T16:15:44.924636",
     "status": "completed"
    },
    "tags": []
   },
   "outputs": [
    {
     "name": "stdout",
     "output_type": "stream",
     "text": [
      "Using device: cuda\n"
     ]
    }
   ],
   "source": [
    "# Import library\n",
    "\n",
    "from resnet152_lib import *\n"
   ]
  },
  {
   "cell_type": "code",
   "execution_count": 3,
   "id": "88d3e6d1",
   "metadata": {
    "execution": {
     "iopub.execute_input": "2022-08-06T16:15:45.985030Z",
     "iopub.status.busy": "2022-08-06T16:15:45.983896Z",
     "iopub.status.idle": "2022-08-06T16:15:45.989149Z",
     "shell.execute_reply": "2022-08-06T16:15:45.988323Z"
    },
    "papermill": {
     "duration": 0.039454,
     "end_time": "2022-08-06T16:15:45.991080",
     "exception": false,
     "start_time": "2022-08-06T16:15:45.951626",
     "status": "completed"
    },
    "tags": []
   },
   "outputs": [],
   "source": [
    "# Values for z-score norm\n",
    "\n",
    "data_mean = (0.4180, 0.3998, 0.3396)\n",
    "data_std = (0.2728, 0.2571, 0.2389)\n",
    "\n",
    "# Validation size\n",
    "\n",
    "validation_size = 0.0\n",
    "seed_for_split = 42"
   ]
  },
  {
   "cell_type": "code",
   "execution_count": 4,
   "id": "97e6844f",
   "metadata": {
    "execution": {
     "iopub.execute_input": "2022-08-06T16:15:46.054976Z",
     "iopub.status.busy": "2022-08-06T16:15:46.054125Z",
     "iopub.status.idle": "2022-08-06T16:15:46.059124Z",
     "shell.execute_reply": "2022-08-06T16:15:46.058321Z"
    },
    "papermill": {
     "duration": 0.038749,
     "end_time": "2022-08-06T16:15:46.061069",
     "exception": false,
     "start_time": "2022-08-06T16:15:46.022320",
     "status": "completed"
    },
    "tags": []
   },
   "outputs": [],
   "source": [
    "# Hiper-params\n",
    "\n",
    "lr_value = 0.0001\n",
    "lr_decay = 0.7\n",
    "epochs = 30\n",
    "dropout_value = 0.1\n",
    "hidden_layer = 2048\n",
    "batch_size = 16\n",
    "network_type = \"resnet152\""
   ]
  },
  {
   "cell_type": "code",
   "execution_count": 5,
   "id": "eba12586",
   "metadata": {
    "execution": {
     "iopub.execute_input": "2022-08-06T16:15:46.124570Z",
     "iopub.status.busy": "2022-08-06T16:15:46.123722Z",
     "iopub.status.idle": "2022-08-06T16:15:46.128604Z",
     "shell.execute_reply": "2022-08-06T16:15:46.127789Z"
    },
    "papermill": {
     "duration": 0.038805,
     "end_time": "2022-08-06T16:15:46.130575",
     "exception": false,
     "start_time": "2022-08-06T16:15:46.091770",
     "status": "completed"
    },
    "tags": []
   },
   "outputs": [],
   "source": [
    "# Paths\n",
    "\n",
    "train_data_path = \"./input/train_data.csv\"\n",
    "train_img_path = \"./input/train_img\"\n",
    "sample_sub_path = \"./input/sample_submission.csv\"\n",
    "test_img_path = \"./input/test_img/\"\n",
    "sub_dst_path = \"submission-resnet152.csv\""
   ]
  },
  {
   "cell_type": "code",
   "execution_count": 6,
   "id": "3c648729",
   "metadata": {
    "execution": {
     "iopub.execute_input": "2022-08-06T16:15:46.193453Z",
     "iopub.status.busy": "2022-08-06T16:15:46.192625Z",
     "iopub.status.idle": "2022-08-06T16:15:46.224099Z",
     "shell.execute_reply": "2022-08-06T16:15:46.223250Z"
    },
    "papermill": {
     "duration": 0.064753,
     "end_time": "2022-08-06T16:15:46.225929",
     "exception": false,
     "start_time": "2022-08-06T16:15:46.161176",
     "status": "completed"
    },
    "tags": []
   },
   "outputs": [],
   "source": [
    "# Getting the data\n",
    "\n",
    "futuramaDataset = FuturamaDataset(train_data_path, train_img_path)"
   ]
  },
  {
   "cell_type": "code",
   "execution_count": 7,
   "id": "324922d4",
   "metadata": {
    "execution": {
     "iopub.execute_input": "2022-08-06T16:15:46.289253Z",
     "iopub.status.busy": "2022-08-06T16:15:46.288977Z",
     "iopub.status.idle": "2022-08-06T16:15:46.298568Z",
     "shell.execute_reply": "2022-08-06T16:15:46.297724Z"
    },
    "papermill": {
     "duration": 0.043418,
     "end_time": "2022-08-06T16:15:46.300464",
     "exception": false,
     "start_time": "2022-08-06T16:15:46.257046",
     "status": "completed"
    },
    "tags": []
   },
   "outputs": [],
   "source": [
    "# Split into train and val\n",
    "\n",
    "train_len = int(futuramaDataset.__len__())\n",
    "test_len = futuramaDataset.__len__() - train_len\n",
    "train_set, val_set = torch.utils.data.random_split(\n",
    "    futuramaDataset,\n",
    "    [train_len, test_len],\n",
    "    generator=torch.Generator().manual_seed(seed_for_split),\n",
    ")\n",
    "\n",
    "random_transforms = [\n",
    "    transforms.RandomAffine(degrees=(0, 360), scale=(0.25, 0.3)),\n",
    "    transforms.ColorJitter(hue=(-0.5, 0.5)),\n",
    "    transforms.RandomErasing(p=1.0, scale=(0.2, 0.5), value=\"random\"),\n",
    "]\n",
    "\n",
    "\n",
    "train_set.dataset.transform = transforms.Compose(\n",
    "    [\n",
    "        transforms.Resize((224, 224)),\n",
    "        transforms.ToTensor(),\n",
    "        transforms.AutoAugment(),\n",
    "        transforms.RandomChoice(random_transforms),\n",
    "        transforms.Normalize(data_mean, data_std),\n",
    "    ]\n",
    ")\n",
    "\n",
    "val_set.dataset.transform = transforms.Compose(\n",
    "    [\n",
    "        transforms.Resize((224, 224)),\n",
    "        transforms.ToTensor(),\n",
    "        transforms.Normalize(data_mean, data_std),\n",
    "    ]\n",
    ")\n"
   ]
  },
  {
   "cell_type": "code",
   "execution_count": 8,
   "id": "fc14b048",
   "metadata": {
    "execution": {
     "iopub.execute_input": "2022-08-06T16:15:46.363375Z",
     "iopub.status.busy": "2022-08-06T16:15:46.363091Z",
     "iopub.status.idle": "2022-08-06T16:15:46.369492Z",
     "shell.execute_reply": "2022-08-06T16:15:46.368584Z"
    },
    "papermill": {
     "duration": 0.040251,
     "end_time": "2022-08-06T16:15:46.371573",
     "exception": false,
     "start_time": "2022-08-06T16:15:46.331322",
     "status": "completed"
    },
    "tags": []
   },
   "outputs": [
    {
     "name": "stderr",
     "output_type": "stream",
     "text": [
      "/opt/conda/lib/python3.7/site-packages/torch/utils/data/dataloader.py:560: UserWarning: This DataLoader will create 8 worker processes in total. Our suggested max number of worker in current system is 2, which is smaller than what this DataLoader is going to create. Please be aware that excessive worker creation might get DataLoader running slow or even freeze, lower the worker number to avoid potential slowness/freeze if necessary.\n",
      "  cpuset_checked))\n"
     ]
    }
   ],
   "source": [
    "# Create the dataloader for train and test\n",
    "\n",
    "train_loader = DataLoader(\n",
    "    train_set, batch_size=batch_size, shuffle=True, num_workers=8, drop_last=True\n",
    ")\n",
    "val_loader = DataLoader(\n",
    "    val_set, batch_size=batch_size, shuffle=False, num_workers=8, drop_last=False\n",
    ")"
   ]
  },
  {
   "cell_type": "code",
   "execution_count": 9,
   "id": "de4bb905",
   "metadata": {
    "execution": {
     "iopub.execute_input": "2022-08-06T16:15:46.435237Z",
     "iopub.status.busy": "2022-08-06T16:15:46.433788Z",
     "iopub.status.idle": "2022-08-06T16:16:12.458810Z",
     "shell.execute_reply": "2022-08-06T16:16:12.457787Z"
    },
    "papermill": {
     "duration": 26.059038,
     "end_time": "2022-08-06T16:16:12.461340",
     "exception": false,
     "start_time": "2022-08-06T16:15:46.402302",
     "status": "completed"
    },
    "tags": []
   },
   "outputs": [
    {
     "name": "stdout",
     "output_type": "stream",
     "text": [
      "using resnet152\n"
     ]
    },
    {
     "name": "stderr",
     "output_type": "stream",
     "text": [
      "Downloading: \"https://download.pytorch.org/models/resnet152-f82ba261.pth\" to /root/.cache/torch/hub/checkpoints/resnet152-f82ba261.pth\n"
     ]
    },
    {
     "data": {
      "application/vnd.jupyter.widget-view+json": {
       "model_id": "0b5b5c0a87a94ca8b800d29dd789fe47",
       "version_major": 2,
       "version_minor": 0
      },
      "text/plain": [
       "  0%|          | 0.00/230M [00:00<?, ?B/s]"
      ]
     },
     "metadata": {},
     "output_type": "display_data"
    }
   ],
   "source": [
    "# Download ResNet152 pretrained with Imaginet_V2\n",
    "\n",
    "model = FuturamaResnet(network_type, hidden_layer, dropout_value).to(device)"
   ]
  },
  {
   "cell_type": "code",
   "execution_count": 10,
   "id": "d2494a68",
   "metadata": {
    "execution": {
     "iopub.execute_input": "2022-08-06T16:16:12.527103Z",
     "iopub.status.busy": "2022-08-06T16:16:12.526799Z",
     "iopub.status.idle": "2022-08-06T17:19:32.963593Z",
     "shell.execute_reply": "2022-08-06T17:19:32.959975Z"
    },
    "papermill": {
     "duration": 3800.504123,
     "end_time": "2022-08-06T17:19:32.998678",
     "exception": false,
     "start_time": "2022-08-06T16:16:12.494555",
     "status": "completed"
    },
    "tags": []
   },
   "outputs": [
    {
     "name": "stdout",
     "output_type": "stream",
     "text": [
      "Adjusting learning rate of group 0 to 1.0000e-04.\n",
      "Epoch Train[1/30], Step [509/509], Loss: 0.4431\n",
      "Adjusting learning rate of group 0 to 7.0000e-05.\n",
      "Epoch Train[2/30], Step [509/509], Loss: 0.0827\n",
      "Adjusting learning rate of group 0 to 4.9000e-05.\n",
      "Epoch Train[3/30], Step [509/509], Loss: 0.0269\n",
      "Adjusting learning rate of group 0 to 3.4300e-05.\n",
      "Epoch Train[4/30], Step [509/509], Loss: 0.0127\n",
      "Adjusting learning rate of group 0 to 2.4010e-05.\n",
      "Epoch Train[5/30], Step [509/509], Loss: 0.0074\n",
      "Adjusting learning rate of group 0 to 1.6807e-05.\n",
      "Epoch Train[6/30], Step [509/509], Loss: 0.0036\n",
      "Adjusting learning rate of group 0 to 1.1765e-05.\n",
      "Epoch Train[7/30], Step [509/509], Loss: 0.0028\n",
      "Adjusting learning rate of group 0 to 8.2354e-06.\n",
      "Epoch Train[8/30], Step [509/509], Loss: 0.0031\n",
      "Adjusting learning rate of group 0 to 5.7648e-06.\n",
      "Epoch Train[9/30], Step [509/509], Loss: 0.0024\n",
      "Adjusting learning rate of group 0 to 4.0354e-06.\n",
      "Epoch Train[10/30], Step [509/509], Loss: 0.0015\n",
      "Adjusting learning rate of group 0 to 2.8248e-06.\n",
      "Epoch Train[11/30], Step [509/509], Loss: 0.0017\n",
      "Adjusting learning rate of group 0 to 1.9773e-06.\n",
      "Epoch Train[12/30], Step [509/509], Loss: 0.0011\n",
      "Adjusting learning rate of group 0 to 1.3841e-06.\n",
      "Epoch Train[13/30], Step [509/509], Loss: 0.0010\n",
      "Adjusting learning rate of group 0 to 9.6889e-07.\n",
      "Epoch Train[14/30], Step [509/509], Loss: 0.0011\n",
      "Adjusting learning rate of group 0 to 6.7822e-07.\n",
      "Epoch Train[15/30], Step [509/509], Loss: 0.0011\n",
      "Adjusting learning rate of group 0 to 4.7476e-07.\n",
      "Epoch Train[16/30], Step [509/509], Loss: 0.0013\n",
      "Adjusting learning rate of group 0 to 3.3233e-07.\n",
      "Epoch Train[17/30], Step [509/509], Loss: 0.0007\n",
      "Adjusting learning rate of group 0 to 2.3263e-07.\n",
      "Epoch Train[18/30], Step [509/509], Loss: 0.0009\n",
      "Adjusting learning rate of group 0 to 1.6284e-07.\n",
      "Epoch Train[19/30], Step [509/509], Loss: 0.0014\n",
      "Adjusting learning rate of group 0 to 1.1399e-07.\n",
      "Epoch Train[20/30], Step [509/509], Loss: 0.0007\n",
      "Adjusting learning rate of group 0 to 7.9792e-08.\n",
      "Epoch Train[21/30], Step [509/509], Loss: 0.0006\n",
      "Adjusting learning rate of group 0 to 5.5855e-08.\n",
      "Epoch Train[22/30], Step [509/509], Loss: 0.0012\n",
      "Adjusting learning rate of group 0 to 3.9098e-08.\n",
      "Epoch Train[23/30], Step [509/509], Loss: 0.0007\n",
      "Adjusting learning rate of group 0 to 2.7369e-08.\n",
      "Epoch Train[24/30], Step [509/509], Loss: 0.0011\n",
      "Adjusting learning rate of group 0 to 1.9158e-08.\n",
      "Epoch Train[25/30], Step [509/509], Loss: 0.0011\n",
      "Adjusting learning rate of group 0 to 1.3411e-08.\n",
      "Epoch Train[26/30], Step [509/509], Loss: 0.0007\n",
      "Adjusting learning rate of group 0 to 9.3875e-09.\n",
      "Epoch Train[27/30], Step [509/509], Loss: 0.0007\n",
      "Adjusting learning rate of group 0 to 6.5712e-09.\n",
      "Epoch Train[28/30], Step [509/509], Loss: 0.0006\n",
      "Adjusting learning rate of group 0 to 4.5999e-09.\n",
      "Epoch Train[29/30], Step [509/509], Loss: 0.0006\n",
      "Adjusting learning rate of group 0 to 3.2199e-09.\n",
      "Epoch Train[30/30], Step [509/509], Loss: 0.0009\n",
      "Adjusting learning rate of group 0 to 2.2539e-09.\n"
     ]
    }
   ],
   "source": [
    "# Training\n",
    "\n",
    "training(model, device, None, lr_value, lr_decay, epochs, train_loader, val_loader)"
   ]
  },
  {
   "cell_type": "code",
   "execution_count": 11,
   "id": "66b1c017",
   "metadata": {
    "execution": {
     "iopub.execute_input": "2022-08-06T17:19:33.072262Z",
     "iopub.status.busy": "2022-08-06T17:19:33.071034Z",
     "iopub.status.idle": "2022-08-06T17:20:11.781358Z",
     "shell.execute_reply": "2022-08-06T17:20:11.780336Z"
    },
    "papermill": {
     "duration": 38.75122,
     "end_time": "2022-08-06T17:20:11.784224",
     "exception": false,
     "start_time": "2022-08-06T17:19:33.033004",
     "status": "completed"
    },
    "tags": []
   },
   "outputs": [],
   "source": [
    "# Create a submission using the trained model\n",
    "\n",
    "create_submission(\n",
    "    model, sample_sub_path, test_img_path, sub_dst_path, data_mean, data_std)"
   ]
  }
 ],
 "metadata": {
  "kernelspec": {
   "display_name": "Python 3.7.4 64-bit",
   "language": "python",
   "name": "python3"
  },
  "language_info": {
   "codemirror_mode": {
    "name": "ipython",
    "version": 3
   },
   "file_extension": ".py",
   "mimetype": "text/x-python",
   "name": "python",
   "nbconvert_exporter": "python",
   "pygments_lexer": "ipython3",
   "version": "3.7.4"
  },
  "papermill": {
   "default_parameters": {},
   "duration": 3959.3776,
   "end_time": "2022-08-06T17:20:12.950270",
   "environment_variables": {},
   "exception": null,
   "input_path": "__notebook__.ipynb",
   "output_path": "__notebook__.ipynb",
   "parameters": {},
   "start_time": "2022-08-06T16:14:13.572670",
   "version": "2.3.4"
  },
  "vscode": {
   "interpreter": {
    "hash": "f71bf39f8f999aff904c5f8840192b43e08b1f29edc827622ce8ce1e90a24042"
   }
  },
  "widgets": {
   "application/vnd.jupyter.widget-state+json": {
    "state": {
     "0b5b5c0a87a94ca8b800d29dd789fe47": {
      "model_module": "@jupyter-widgets/controls",
      "model_module_version": "1.5.0",
      "model_name": "HBoxModel",
      "state": {
       "_dom_classes": [],
       "_model_module": "@jupyter-widgets/controls",
       "_model_module_version": "1.5.0",
       "_model_name": "HBoxModel",
       "_view_count": null,
       "_view_module": "@jupyter-widgets/controls",
       "_view_module_version": "1.5.0",
       "_view_name": "HBoxView",
       "box_style": "",
       "children": [
        "IPY_MODEL_1e9bc56f926046758685096dd1b4eab7",
        "IPY_MODEL_afd3f21b4d5a466a83b1c5544a752eaf",
        "IPY_MODEL_885e3aa1f0e14e89afe2e34ecceede5d"
       ],
       "layout": "IPY_MODEL_ed9917fbfb8d49b08f023512e17831d7"
      }
     },
     "1e9bc56f926046758685096dd1b4eab7": {
      "model_module": "@jupyter-widgets/controls",
      "model_module_version": "1.5.0",
      "model_name": "HTMLModel",
      "state": {
       "_dom_classes": [],
       "_model_module": "@jupyter-widgets/controls",
       "_model_module_version": "1.5.0",
       "_model_name": "HTMLModel",
       "_view_count": null,
       "_view_module": "@jupyter-widgets/controls",
       "_view_module_version": "1.5.0",
       "_view_name": "HTMLView",
       "description": "",
       "description_tooltip": null,
       "layout": "IPY_MODEL_6f3769ad94914d08a821cbe27f5865b2",
       "placeholder": "​",
       "style": "IPY_MODEL_8e99b1b10a3c4f99b50f10ee40f360e9",
       "value": "100%"
      }
     },
     "4f1852ae9aa44d0d9f80bb72202bb7ed": {
      "model_module": "@jupyter-widgets/base",
      "model_module_version": "1.2.0",
      "model_name": "LayoutModel",
      "state": {
       "_model_module": "@jupyter-widgets/base",
       "_model_module_version": "1.2.0",
       "_model_name": "LayoutModel",
       "_view_count": null,
       "_view_module": "@jupyter-widgets/base",
       "_view_module_version": "1.2.0",
       "_view_name": "LayoutView",
       "align_content": null,
       "align_items": null,
       "align_self": null,
       "border": null,
       "bottom": null,
       "display": null,
       "flex": null,
       "flex_flow": null,
       "grid_area": null,
       "grid_auto_columns": null,
       "grid_auto_flow": null,
       "grid_auto_rows": null,
       "grid_column": null,
       "grid_gap": null,
       "grid_row": null,
       "grid_template_areas": null,
       "grid_template_columns": null,
       "grid_template_rows": null,
       "height": null,
       "justify_content": null,
       "justify_items": null,
       "left": null,
       "margin": null,
       "max_height": null,
       "max_width": null,
       "min_height": null,
       "min_width": null,
       "object_fit": null,
       "object_position": null,
       "order": null,
       "overflow": null,
       "overflow_x": null,
       "overflow_y": null,
       "padding": null,
       "right": null,
       "top": null,
       "visibility": null,
       "width": null
      }
     },
     "5f53d2e2e7844349b40ca5512182346b": {
      "model_module": "@jupyter-widgets/controls",
      "model_module_version": "1.5.0",
      "model_name": "DescriptionStyleModel",
      "state": {
       "_model_module": "@jupyter-widgets/controls",
       "_model_module_version": "1.5.0",
       "_model_name": "DescriptionStyleModel",
       "_view_count": null,
       "_view_module": "@jupyter-widgets/base",
       "_view_module_version": "1.2.0",
       "_view_name": "StyleView",
       "description_width": ""
      }
     },
     "6f3769ad94914d08a821cbe27f5865b2": {
      "model_module": "@jupyter-widgets/base",
      "model_module_version": "1.2.0",
      "model_name": "LayoutModel",
      "state": {
       "_model_module": "@jupyter-widgets/base",
       "_model_module_version": "1.2.0",
       "_model_name": "LayoutModel",
       "_view_count": null,
       "_view_module": "@jupyter-widgets/base",
       "_view_module_version": "1.2.0",
       "_view_name": "LayoutView",
       "align_content": null,
       "align_items": null,
       "align_self": null,
       "border": null,
       "bottom": null,
       "display": null,
       "flex": null,
       "flex_flow": null,
       "grid_area": null,
       "grid_auto_columns": null,
       "grid_auto_flow": null,
       "grid_auto_rows": null,
       "grid_column": null,
       "grid_gap": null,
       "grid_row": null,
       "grid_template_areas": null,
       "grid_template_columns": null,
       "grid_template_rows": null,
       "height": null,
       "justify_content": null,
       "justify_items": null,
       "left": null,
       "margin": null,
       "max_height": null,
       "max_width": null,
       "min_height": null,
       "min_width": null,
       "object_fit": null,
       "object_position": null,
       "order": null,
       "overflow": null,
       "overflow_x": null,
       "overflow_y": null,
       "padding": null,
       "right": null,
       "top": null,
       "visibility": null,
       "width": null
      }
     },
     "7dc026b983014e1ca3bbabb5155083f4": {
      "model_module": "@jupyter-widgets/controls",
      "model_module_version": "1.5.0",
      "model_name": "ProgressStyleModel",
      "state": {
       "_model_module": "@jupyter-widgets/controls",
       "_model_module_version": "1.5.0",
       "_model_name": "ProgressStyleModel",
       "_view_count": null,
       "_view_module": "@jupyter-widgets/base",
       "_view_module_version": "1.2.0",
       "_view_name": "StyleView",
       "bar_color": null,
       "description_width": ""
      }
     },
     "885e3aa1f0e14e89afe2e34ecceede5d": {
      "model_module": "@jupyter-widgets/controls",
      "model_module_version": "1.5.0",
      "model_name": "HTMLModel",
      "state": {
       "_dom_classes": [],
       "_model_module": "@jupyter-widgets/controls",
       "_model_module_version": "1.5.0",
       "_model_name": "HTMLModel",
       "_view_count": null,
       "_view_module": "@jupyter-widgets/controls",
       "_view_module_version": "1.5.0",
       "_view_name": "HTMLView",
       "description": "",
       "description_tooltip": null,
       "layout": "IPY_MODEL_4f1852ae9aa44d0d9f80bb72202bb7ed",
       "placeholder": "​",
       "style": "IPY_MODEL_5f53d2e2e7844349b40ca5512182346b",
       "value": " 230M/230M [00:21&lt;00:00, 6.01MB/s]"
      }
     },
     "8e99b1b10a3c4f99b50f10ee40f360e9": {
      "model_module": "@jupyter-widgets/controls",
      "model_module_version": "1.5.0",
      "model_name": "DescriptionStyleModel",
      "state": {
       "_model_module": "@jupyter-widgets/controls",
       "_model_module_version": "1.5.0",
       "_model_name": "DescriptionStyleModel",
       "_view_count": null,
       "_view_module": "@jupyter-widgets/base",
       "_view_module_version": "1.2.0",
       "_view_name": "StyleView",
       "description_width": ""
      }
     },
     "af192aae821145e28671cd38707ce08f": {
      "model_module": "@jupyter-widgets/base",
      "model_module_version": "1.2.0",
      "model_name": "LayoutModel",
      "state": {
       "_model_module": "@jupyter-widgets/base",
       "_model_module_version": "1.2.0",
       "_model_name": "LayoutModel",
       "_view_count": null,
       "_view_module": "@jupyter-widgets/base",
       "_view_module_version": "1.2.0",
       "_view_name": "LayoutView",
       "align_content": null,
       "align_items": null,
       "align_self": null,
       "border": null,
       "bottom": null,
       "display": null,
       "flex": null,
       "flex_flow": null,
       "grid_area": null,
       "grid_auto_columns": null,
       "grid_auto_flow": null,
       "grid_auto_rows": null,
       "grid_column": null,
       "grid_gap": null,
       "grid_row": null,
       "grid_template_areas": null,
       "grid_template_columns": null,
       "grid_template_rows": null,
       "height": null,
       "justify_content": null,
       "justify_items": null,
       "left": null,
       "margin": null,
       "max_height": null,
       "max_width": null,
       "min_height": null,
       "min_width": null,
       "object_fit": null,
       "object_position": null,
       "order": null,
       "overflow": null,
       "overflow_x": null,
       "overflow_y": null,
       "padding": null,
       "right": null,
       "top": null,
       "visibility": null,
       "width": null
      }
     },
     "afd3f21b4d5a466a83b1c5544a752eaf": {
      "model_module": "@jupyter-widgets/controls",
      "model_module_version": "1.5.0",
      "model_name": "FloatProgressModel",
      "state": {
       "_dom_classes": [],
       "_model_module": "@jupyter-widgets/controls",
       "_model_module_version": "1.5.0",
       "_model_name": "FloatProgressModel",
       "_view_count": null,
       "_view_module": "@jupyter-widgets/controls",
       "_view_module_version": "1.5.0",
       "_view_name": "ProgressView",
       "bar_style": "success",
       "description": "",
       "description_tooltip": null,
       "layout": "IPY_MODEL_af192aae821145e28671cd38707ce08f",
       "max": 241669177,
       "min": 0,
       "orientation": "horizontal",
       "style": "IPY_MODEL_7dc026b983014e1ca3bbabb5155083f4",
       "value": 241669177
      }
     },
     "ed9917fbfb8d49b08f023512e17831d7": {
      "model_module": "@jupyter-widgets/base",
      "model_module_version": "1.2.0",
      "model_name": "LayoutModel",
      "state": {
       "_model_module": "@jupyter-widgets/base",
       "_model_module_version": "1.2.0",
       "_model_name": "LayoutModel",
       "_view_count": null,
       "_view_module": "@jupyter-widgets/base",
       "_view_module_version": "1.2.0",
       "_view_name": "LayoutView",
       "align_content": null,
       "align_items": null,
       "align_self": null,
       "border": null,
       "bottom": null,
       "display": null,
       "flex": null,
       "flex_flow": null,
       "grid_area": null,
       "grid_auto_columns": null,
       "grid_auto_flow": null,
       "grid_auto_rows": null,
       "grid_column": null,
       "grid_gap": null,
       "grid_row": null,
       "grid_template_areas": null,
       "grid_template_columns": null,
       "grid_template_rows": null,
       "height": null,
       "justify_content": null,
       "justify_items": null,
       "left": null,
       "margin": null,
       "max_height": null,
       "max_width": null,
       "min_height": null,
       "min_width": null,
       "object_fit": null,
       "object_position": null,
       "order": null,
       "overflow": null,
       "overflow_x": null,
       "overflow_y": null,
       "padding": null,
       "right": null,
       "top": null,
       "visibility": null,
       "width": null
      }
     }
    },
    "version_major": 2,
    "version_minor": 0
   }
  }
 },
 "nbformat": 4,
 "nbformat_minor": 5
}
